{
 "cells": [
  {
   "cell_type": "code",
   "execution_count": null,
   "id": "6359bcd0-ffd0-442e-bbb8-3f1cc2dad7bd",
   "metadata": {},
   "outputs": [],
   "source": [
    "import numpy as np\n",
    "import pandas as pd\n",
    "\n",
    "import matplotlib as mpl\n",
    "import matplotlib.pyplot as plt\n",
    "\n",
    "import seaborn as sns\n",
    "import seaborn.objects as so\n",
    "\n",
    "print(\"Wpisz 3 wartości dla Ct(target, test)\")\n",
    "# listaTreszholdów\n",
    "# for(3 razy) {\n",
    "    # cycleThresholdTargetTest= input()\n",
    "    # listaTreszholdów.push(cycleThresholdTargetTest)\n",
    "}\n",
    "#oblcizenie tej średniej\n",
    "# for(3 razy) {\n",
    "    # cycleThresholdTargetTest= input()\n",
    "    # listaTreszholdów.push(cycleThresholdTargetTest)\n",
    "}\n",
    "#oblcizenie tej średniej\n",
    "# for(3 razy) {\n",
    "    # cycleThresholdTargetTest= input()\n",
    "    # listaTreszholdów.push(cycleThresholdTargetTest)\n",
    "}\n",
    "#oblcizenie tej średniej\n",
    "# for(3 razy) {\n",
    "    # cycleThresholdTargetTest= input()\n",
    "    # listaTreszholdów.push(cycleThresholdTargetTest)\n",
    "}\n",
    "#oblcizenie tej średniej\n",
    "\n",
    "cycleThresholdTargetTest1= input()\n",
    "cycleThresholdTargetTest2= input()\n",
    "cycleThresholdTargetTest3= input()\n",
    "\n",
    "# print(\"Wpisz drugą wartość Ct(target, test)\")\n",
    "# cycleThresholdTargetTest2= input()\n",
    "\n",
    "# print(\"Wpisz trzecią wartość Ct(target, test)\")\n",
    "# cycleThresholdTargetTest3= input()\n",
    "\n",
    "\n",
    "print(\"Wpisz pierwszą wartość Ct(ref, test)\")\n",
    "cycleThresholdRefTest1= input()\n",
    "\n",
    "print(\"Wpisz drugą wartość Ct(ref, test)\")\n",
    "cycleThresholdRefTest2= input()\n",
    "\n",
    "print(\"Wpisz trzecią wartość Ct(ref, test)\")\n",
    "cycleThresholdRefTest3= input\n",
    "\n",
    "print(\"Wpisz pierwszą wartość Ct(target, calibrator)\")\n",
    "cycleThresholdTargetCalibrator1= input"
   ]
  }
 ],
 "metadata": {
  "kernelspec": {
   "display_name": "Python [conda env:base] *",
   "language": "python",
   "name": "conda-base-py"
  },
  "language_info": {
   "codemirror_mode": {
    "name": "ipython",
    "version": 3
   },
   "file_extension": ".py",
   "mimetype": "text/x-python",
   "name": "python",
   "nbconvert_exporter": "python",
   "pygments_lexer": "ipython3",
   "version": "3.12.7"
  }
 },
 "nbformat": 4,
 "nbformat_minor": 5
}
