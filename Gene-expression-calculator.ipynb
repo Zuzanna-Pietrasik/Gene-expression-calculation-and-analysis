{
 "cells": [
  {
   "cell_type": "code",
   "execution_count": 1,
   "id": "6359bcd0-ffd0-442e-bbb8-3f1cc2dad7bd",
   "metadata": {},
   "outputs": [
    {
     "name": "stdout",
     "output_type": "stream",
     "text": [
      "wpisz 1 wartość dla Ct(target, test)\n"
     ]
    },
    {
     "name": "stdin",
     "output_type": "stream",
     "text": [
      " 12\n"
     ]
    },
    {
     "name": "stdout",
     "output_type": "stream",
     "text": [
      "wpisz 2 wartość dla Ct(target, test)\n"
     ]
    },
    {
     "name": "stdin",
     "output_type": "stream",
     "text": [
      " 12\n"
     ]
    },
    {
     "name": "stdout",
     "output_type": "stream",
     "text": [
      "wpisz 3 wartość dla Ct(target, test)\n"
     ]
    },
    {
     "name": "stdin",
     "output_type": "stream",
     "text": [
      " 12\n"
     ]
    },
    {
     "name": "stdout",
     "output_type": "stream",
     "text": [
      "12.0\n",
      "wpisz 1 wartość dla Ct(reference, test)\n"
     ]
    },
    {
     "name": "stdin",
     "output_type": "stream",
     "text": [
      " 15.9\n"
     ]
    },
    {
     "name": "stdout",
     "output_type": "stream",
     "text": [
      "wpisz 2 wartość dla Ct(reference, test)\n"
     ]
    },
    {
     "name": "stdin",
     "output_type": "stream",
     "text": [
      " 15.9\n"
     ]
    },
    {
     "name": "stdout",
     "output_type": "stream",
     "text": [
      "wpisz 3 wartość dla Ct(reference, test)\n"
     ]
    },
    {
     "name": "stdin",
     "output_type": "stream",
     "text": [
      " 15.9\n"
     ]
    },
    {
     "name": "stdout",
     "output_type": "stream",
     "text": [
      "15.9\n",
      "wpisz 1 wartość dla Ct(target, calibrator)\n"
     ]
    },
    {
     "name": "stdin",
     "output_type": "stream",
     "text": [
      " 15\n"
     ]
    },
    {
     "name": "stdout",
     "output_type": "stream",
     "text": [
      "wpisz 2 wartość dla Ct(target, calibrator)\n"
     ]
    },
    {
     "name": "stdin",
     "output_type": "stream",
     "text": [
      " 15\n"
     ]
    },
    {
     "name": "stdout",
     "output_type": "stream",
     "text": [
      "wpisz 3 wartość dla Ct(target, calibrator)\n"
     ]
    },
    {
     "name": "stdin",
     "output_type": "stream",
     "text": [
      " 15\n"
     ]
    },
    {
     "name": "stdout",
     "output_type": "stream",
     "text": [
      "15.0\n",
      "wpisz 1 wartość dla Ct(reference, calibrator)\n"
     ]
    },
    {
     "name": "stdin",
     "output_type": "stream",
     "text": [
      " 16.3\n"
     ]
    },
    {
     "name": "stdout",
     "output_type": "stream",
     "text": [
      "wpisz 2 wartość dla Ct(reference, calibrator)\n"
     ]
    },
    {
     "name": "stdin",
     "output_type": "stream",
     "text": [
      " 16.3\n"
     ]
    },
    {
     "name": "stdout",
     "output_type": "stream",
     "text": [
      "wpisz 3 wartość dla Ct(reference, calibrator)\n"
     ]
    },
    {
     "name": "stdin",
     "output_type": "stream",
     "text": [
      " 16.3\n"
     ]
    },
    {
     "name": "stdout",
     "output_type": "stream",
     "text": [
      "16.3\n",
      "6.062866266041591\n"
     ]
    }
   ],
   "source": [
    "\n",
    "cycleThresholdTargetTest = 0\n",
    "cycleThresholdReferenceTest = 0\n",
    "cycleThresholdTargetCalibrator = 0\n",
    "cycleThresholdReferenceCalibrator = 0\n",
    "\n",
    "for x in range(3):\n",
    "    CTNumber = str(x+1)\n",
    "    message = 'wpisz '+ CTNumber +' wartość dla Ct(target, test)' \n",
    "    print(message)\n",
    "    cycleThresholdTargetTest= cycleThresholdTargetTest + float(input())\n",
    "    \n",
    "cycleThresholdTargetTest= cycleThresholdTargetTest/3\n",
    "\n",
    "print(cycleThresholdTargetTest)\n",
    "\n",
    "for x in range(3):\n",
    "    CTNumber = str(x+1)\n",
    "    message = 'wpisz '+ CTNumber +' wartość dla Ct(reference, test)' \n",
    "    print(message)\n",
    "    cycleThresholdReferenceTest= cycleThresholdReferenceTest + float(input())\n",
    "    \n",
    "cycleThresholdReferenceTest= cycleThresholdReferenceTest/3\n",
    "\n",
    "print(cycleThresholdReferenceTest)\n",
    "\n",
    "for x in range(3):\n",
    "    CTNumber = str(x+1)\n",
    "    message = 'wpisz '+ CTNumber +' wartość dla Ct(target, calibrator)' \n",
    "    print(message)\n",
    "    cycleThresholdTargetCalibrator= cycleThresholdTargetCalibrator + float(input())\n",
    "    \n",
    "cycleThresholdTargetCalibrator= cycleThresholdTargetCalibrator/3\n",
    "\n",
    "print(cycleThresholdTargetCalibrator)\n",
    "\n",
    "for x in range(3):\n",
    "    CTNumber = str(x+1)\n",
    "    message = 'wpisz '+ CTNumber +' wartość dla Ct(reference, calibrator)' \n",
    "    print(message)\n",
    "    cycleThresholdReferenceCalibrator= cycleThresholdReferenceCalibrator + float(input())\n",
    "    \n",
    "cycleThresholdReferenceCalibrator= cycleThresholdReferenceCalibrator/3\n",
    "\n",
    "print(cycleThresholdReferenceCalibrator)\n",
    "\n",
    "# cycleThresholdTargetTest = 12\n",
    "# cycleThresholdReferenceTest = 15.9\n",
    "# cycleThresholdTargetCalibrator = 15\n",
    "# cycleThresholdReferenceCalibrator = 16.5\n",
    "\n",
    "deltaCtTest = cycleThresholdTargetTest - cycleThresholdReferenceTest\n",
    "\n",
    "deltaCtCalibrator = cycleThresholdTargetCalibrator - cycleThresholdReferenceCalibrator\n",
    "\n",
    "deltaDeltaCt = deltaCtTest - deltaCtCalibrator\n",
    "\n",
    "normalizedExpresionRatio = pow(2,-deltaDeltaCt)\n",
    "\n",
    "print(normalizedExpresionRatio)"
   ]
  },
  {
   "cell_type": "code",
   "execution_count": null,
   "id": "09a014b3-232a-47fb-a422-6b0d1bf9d67c",
   "metadata": {},
   "outputs": [],
   "source": []
  }
 ],
 "metadata": {
  "kernelspec": {
   "display_name": "Python [conda env:base] *",
   "language": "python",
   "name": "conda-base-py"
  },
  "language_info": {
   "codemirror_mode": {
    "name": "ipython",
    "version": 3
   },
   "file_extension": ".py",
   "mimetype": "text/x-python",
   "name": "python",
   "nbconvert_exporter": "python",
   "pygments_lexer": "ipython3",
   "version": "3.12.7"
  }
 },
 "nbformat": 4,
 "nbformat_minor": 5
}
