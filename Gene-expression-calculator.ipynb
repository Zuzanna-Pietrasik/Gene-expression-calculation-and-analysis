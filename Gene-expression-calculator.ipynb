{
 "cells": [
  {
   "cell_type": "code",
   "execution_count": 1,
   "id": "6359bcd0-ffd0-442e-bbb8-3f1cc2dad7bd",
   "metadata": {
    "scrolled": true
   },
   "outputs": [
    {
     "name": "stdout",
     "output_type": "stream",
     "text": [
      "wpisz 1 wartość dla Ct(target, test)\n"
     ]
    },
    {
     "name": "stderr",
     "output_type": "stream",
     "text": [
      "\n",
      "KeyboardInterrupt\n",
      "\n"
     ]
    }
   ],
   "source": [
    "import statistics\n",
    "\n",
    "cycleThresholdTargetTest = []\n",
    "cycleThresholdReferenceTest = []\n",
    "cycleThresholdTargetCalibrator = []\n",
    "cycleThresholdReferenceCalibrator = []\n",
    "\n",
    "cycleThresholdTargetTestMean = 0\n",
    "cycleThresholdReferenceTestMean =  0\n",
    "cycleThresholdTargetCalibratorMean =  0\n",
    "cycleThresholdReferenceCalibratorMean =  0\n",
    "\n",
    "cycleThresholdTargetTestStandardDeviation = 0\n",
    "cycleThresholdReferenceTestStandardDeviation =  0\n",
    "cycleThresholdTargetCalibratorStandardDeviation =  0\n",
    "cycleThresholdReferenceCalibratorStandardDeviation =  0\n",
    "\n",
    "# cycleThresholdReferenceTest.append()\n",
    "\n",
    "for x in range(3):\n",
    "    CTNumber = str(x+1)\n",
    "    message = 'wpisz '+ CTNumber +' wartość dla Ct(target, test)' \n",
    "    print(message)\n",
    "    cycleThresholdTargetTest.append(float(input())) \n",
    "    \n",
    "# zrobić średnią z tego powyżej\n",
    "print(\"Odchylenie standardowe Ct(target, test) wynosi is % s\"\n",
    "                              %(statistics.stdev(cycleThresholdTargetTest)))\n",
    "\n",
    "print(cycleThresholdTargetTest)\n",
    "\n",
    "for x in range(3):\n",
    "    CTNumber = str(x+1)\n",
    "    message = 'wpisz '+ CTNumber +' wartość dla Ct(reference, test)' \n",
    "    print(message)\n",
    "    cycleThresholdReferenceTest.append(float(input())) \n",
    "    \n",
    "# zrobić średnią z tego powyżej\n",
    "print(\"Odchylenie standardowe Ct(reference, test) wynosi is % s\"\n",
    "                              %(statistics.stdev(cycleThresholdReferenceTest)))\n",
    "\n",
    "print(cycleThresholdReferenceTest)\n",
    "\n",
    "for x in range(3):\n",
    "    CTNumber = str(x+1)\n",
    "    message = 'wpisz '+ CTNumber +' wartość dla Ct(target, calibrator)' \n",
    "    print(message)\n",
    "    cycleThresholdTargetCalibrator.append(float(input())) \n",
    "    \n",
    "# zrobić średnią z tego powyżej\n",
    "print(\"Odchylenie standardowe Ct(target, calibrator) wynosi is % s\"\n",
    "                              %(statistics.stdev(cycleThresholdTargetCalibrator)))\n",
    "\n",
    "print(cycleThresholdTargetCalibrator)\n",
    "\n",
    "for x in range(3):\n",
    "    CTNumber = str(x+1)\n",
    "    message = 'wpisz '+ CTNumber +' wartość dla Ct(reference, calibrator)' \n",
    "    print(message)\n",
    "    cycleThresholdReferenceCalibrator.append(float(input())) \n",
    "    \n",
    "# zrobić średnią z tego powyżej\n",
    "print(\"Odchylenie standardowe Ct(reference, calibrator) wynosi is % s\"\n",
    "                              %(statistics.stdev(cycleThresholdReferenceCalibrator)))\n",
    "\n",
    "print(cycleThresholdReferenceCalibrator)\n",
    "\n",
    "# cycleThresholdTargetTest = 12\n",
    "# cycleThresholdReferenceTest = 15.9\n",
    "# cycleThresholdTargetCalibrator = 15\n",
    "# cycleThresholdReferenceCalibrator = 16.5\n",
    "\n",
    "# deltaCtTest = cycleThresholdTargetTest - cycleThresholdReferenceTest\n",
    "\n",
    "# deltaCtCalibrator = cycleThresholdTargetCalibrator - cycleThresholdReferenceCalibrator\n",
    "\n",
    "# deltaDeltaCt = deltaCtTest - deltaCtCalibrator\n",
    "\n",
    "# normalizedExpresionRatio = pow(2,-deltaDeltaCt)\n",
    "\n",
    "# print(normalizedExpresionRatio)"
   ]
  },
  {
   "cell_type": "code",
   "execution_count": null,
   "id": "09a014b3-232a-47fb-a422-6b0d1bf9d67c",
   "metadata": {},
   "outputs": [],
   "source": []
  }
 ],
 "metadata": {
  "kernelspec": {
   "display_name": "Python [conda env:base] *",
   "language": "python",
   "name": "conda-base-py"
  },
  "language_info": {
   "codemirror_mode": {
    "name": "ipython",
    "version": 3
   },
   "file_extension": ".py",
   "mimetype": "text/x-python",
   "name": "python",
   "nbconvert_exporter": "python",
   "pygments_lexer": "ipython3",
   "version": "3.12.7"
  }
 },
 "nbformat": 4,
 "nbformat_minor": 5
}
